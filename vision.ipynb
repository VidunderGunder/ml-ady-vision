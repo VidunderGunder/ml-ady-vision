{
  "nbformat": 4,
  "nbformat_minor": 0,
  "metadata": {
    "colab": {
      "name": "Copy of YOLOv5 Tutorial",
      "provenance": [],
      "collapsed_sections": [],
      "include_colab_link": true
    },
    "kernelspec": {
      "name": "python3",
      "display_name": "Python 3"
    },
    "accelerator": "GPU"
  },
  "cells": [
    {
      "cell_type": "markdown",
      "metadata": {
        "id": "view-in-github",
        "colab_type": "text"
      },
      "source": [
        "<a href=\"https://colab.research.google.com/github/VidunderGunder/ml-ady-vision/blob/master/vision.ipynb\" target=\"_parent\"><img src=\"https://colab.research.google.com/assets/colab-badge.svg\" alt=\"Open In Colab\"/></a>"
      ]
    },
    {
      "cell_type": "markdown",
      "metadata": {
        "id": "lotgMUsfBQPN"
      },
      "source": [
        "# MLAdy Vision (Trash Detection)"
      ]
    },
    {
      "cell_type": "code",
      "metadata": {
        "id": "wbvMlHd_QwMG",
        "colab": {
          "base_uri": "https://localhost:8080/"
        },
        "outputId": "0b2c36d7-6baf-4c6b-e25d-94431f26a7d3"
      },
      "source": [
        "%cd \"/content\"\n",
        "!git clone https://github.com/VidunderGunder/ml-ady-vision.git\n",
        "!git clone https://github.com/pedropro/TACO.git\n",
        "!git clone https://github.com/ultralytics/yolov5\n",
        "%cd \"/content/yolov5\"\n",
        "%pip install -qr requirements.txt  # install dependencies\n",
        "%cd \"/content/TACO\"\n",
        "%pip install -qr requirements.txt  # install dependencies\n",
        "%pip install split-folders\n",
        "%cd \"/content\"\n",
        "\n",
        "import torch\n",
        "from IPython.display import Image, clear_output  # to display images\n",
        "import os\n",
        "import shutil\n",
        "import numpy as np\n",
        "import tqdm\n",
        "from pycocotools.coco import COCO\n",
        "import splitfolders\n",
        "import string\n",
        "import random\n",
        "\n",
        "clear_output()\n",
        "print('Setup complete. Using torch %s %s' % (torch.__version__, torch.cuda.get_device_properties(0) if torch.cuda.is_available() else 'CPU'))"
      ],
      "execution_count": 1,
      "outputs": [
        {
          "output_type": "stream",
          "text": [
            "Setup complete. Using torch 1.7.0+cu101 _CudaDeviceProperties(name='Tesla P100-PCIE-16GB', major=6, minor=0, total_memory=16280MB, multi_processor_count=56)\n"
          ],
          "name": "stdout"
        }
      ]
    },
    {
      "cell_type": "code",
      "metadata": {
        "colab": {
          "base_uri": "https://localhost:8080/"
        },
        "id": "saWKkNlTnccV",
        "outputId": "b676b914-21fd-4488-c835-b9191fb9eac8"
      },
      "source": [
        "from google.colab import drive\n",
        "drive.mount('/content/drive')"
      ],
      "execution_count": 3,
      "outputs": [
        {
          "output_type": "stream",
          "text": [
            "Mounted at /content/drive\n"
          ],
          "name": "stdout"
        }
      ]
    },
    {
      "cell_type": "markdown",
      "metadata": {
        "id": "fYe9ogg9BNSN"
      },
      "source": [
        "## Download dataset\r\n",
        "\r\n",
        "It's >2GB, so this will take some time.\r\n",
        "\r\n",
        "Grab a coffee, some snacks or take a dump.\r\n",
        "\r\n",
        "Feel free to read up on [YOLO](https://github.com/ultralytics/yolov5) or [TACO](https://github.com/pedropro/TACO) while you wait."
      ]
    },
    {
      "cell_type": "code",
      "metadata": {
        "colab": {
          "base_uri": "https://localhost:8080/"
        },
        "id": "Chj6Ql2FAXvk",
        "outputId": "b48aa364-b170-4a95-ac1d-e7d7a711888f"
      },
      "source": [
        "def safe_dir_copy(oldfolder, newfolder):\n",
        "    tmpfolder = newfolder\n",
        "    while True:\n",
        "        if os.path.isdir(tmpfolder):\n",
        "            tmpfolder = \"-\".join(\n",
        "                (\n",
        "                    newfolder, \n",
        "                    \"\".join(\n",
        "                        random.choices(\n",
        "                            string.ascii_uppercase + string.digits,\n",
        "                            k=4,\n",
        "                        )\n",
        "                    ),\n",
        "                )\n",
        "            )\n",
        "        else:\n",
        "            break\n",
        "    shutil.copytree(oldfolder, tmpfolder)\n",
        "\n",
        "# data_in_root = os.path.exists(\"/content/data\")\n",
        "data_in_drive = os.path.exists(\"/content/drive/MyDrive/ml-ady-data/taco\")\n",
        "data_in_taco = os.path.exists(\"/content/TACO/data/batch_1\")\n",
        "\n",
        "if data_in_drive or data_in_taco:\n",
        "    print(\"Data exists, skipping download\")\n",
        "else:\n",
        "    %cd TACO\n",
        "    !python download.py\n",
        "    %cd \"/content\"\n",
        "\n",
        "if data_in_taco and not data_in_drive:\n",
        "    print(\"Copy data from taco to drive\")\n",
        "    safe_dir_copy(\n",
        "        \"/content/TACO/data/\",\n",
        "        \"/content/drive/MyDrive/ml-ady-data/taco\",\n",
        "    )\n",
        "\n",
        "# if data_in_drive and not data_in_root:\n",
        "#     print(\"Copy data from drive to local\")\n",
        "#     safe_dir_copy(\n",
        "#         \"/content/drive/MyDrive/ml-ady-data/taco\",\n",
        "#         \"/content/data/taco\",\n",
        "#     )"
      ],
      "execution_count": 4,
      "outputs": [
        {
          "output_type": "stream",
          "text": [
            "Data exists, skipping download\n"
          ],
          "name": "stdout"
        }
      ]
    },
    {
      "cell_type": "markdown",
      "metadata": {
        "id": "WYFeFXc0CIVU"
      },
      "source": [
        "## Convert TACO to YOLO"
      ]
    },
    {
      "cell_type": "code",
      "metadata": {
        "id": "HJnu0y2U8VOq"
      },
      "source": [
        "if os.path.exists(\"/content/ml-ady-vision/taco2yolo.py\"):\n",
        "    %mv /content/ml-ady-vision/taco2yolo.py /content/"
      ],
      "execution_count": 5,
      "outputs": []
    },
    {
      "cell_type": "code",
      "metadata": {
        "id": "tIdAWd_GDMRw",
        "colab": {
          "base_uri": "https://localhost:8080/"
        },
        "outputId": "94894c32-49cb-40ae-8dd1-41a68239e8f6"
      },
      "source": [
        "!python taco2yolo.py"
      ],
      "execution_count": 8,
      "outputs": [
        {
          "output_type": "stream",
          "text": [
            "loading annotations into memory...\n",
            "Done (t=0.08s)\n",
            "creating index...\n",
            "index created!\n",
            "Convert annotations from JSON to TXT: 38it [00:16,  2.14it/s]Traceback (most recent call last):\n",
            "  File \"taco2yolo.py\", line 130, in <module>\n",
            "    os.path.join(save_image_path, save_name),\n",
            "  File \"/usr/lib/python3.6/shutil.py\", line 245, in copy\n",
            "    copyfile(src, dst, follow_symlinks=follow_symlinks)\n",
            "  File \"/usr/lib/python3.6/shutil.py\", line 120, in copyfile\n",
            "    with open(src, 'rb') as fsrc:\n",
            "FileNotFoundError: [Errno 2] No such file or directory: './drive/MyDrive/ml-ady-data/taco/batch_1/000015.jpg'\n",
            "Convert annotations from JSON to TXT: 38it [00:16,  2.32it/s]\n"
          ],
          "name": "stdout"
        }
      ]
    },
    {
      "cell_type": "markdown",
      "metadata": {
        "id": "ehz10UqtCMz7"
      },
      "source": [
        "## Train"
      ]
    },
    {
      "cell_type": "code",
      "metadata": {
        "id": "dBQCGhGGDVtR"
      },
      "source": [
        "%load_ext tensorboard\n",
        "%tensorboard --logdir runs/train"
      ],
      "execution_count": null,
      "outputs": []
    },
    {
      "cell_type": "code",
      "metadata": {
        "colab": {
          "base_uri": "https://localhost:8080/"
        },
        "id": "XOr8OIOq86Jd",
        "outputId": "20f95e4a-cc31-4311-fb05-0eb251cce352"
      },
      "source": [
        "%cd \"/content/yolov5\"\n",
        "# !python train.py --img-size 640 --batch 16 --data yolov5s.yaml --weights yolov5s.pt --cache\n",
        "python train.py --data \"/content/taco.yaml\" --img-size 640 --cfg yolov5s.yaml --weights yolov5s.pt --device 0 --batch-size 16"
      ],
      "execution_count": null,
      "outputs": [
        {
          "output_type": "stream",
          "text": [
            "loading annotations into memory...\n",
            "Done (t=0.05s)\n",
            "creating index...\n",
            "index created!\n",
            "Convert annotations from JSON to TXT: 515it [00:03, 169.64it/s]\n",
            "Traceback (most recent call last):\n",
            "  File \"taco2yolo.py\", line 115, in <module>\n",
            "    os.path.join(save_image_path, save_name),\n",
            "  File \"/usr/lib/python3.6/shutil.py\", line 245, in copy\n",
            "    copyfile(src, dst, follow_symlinks=follow_symlinks)\n",
            "  File \"/usr/lib/python3.6/shutil.py\", line 120, in copyfile\n",
            "    with open(src, 'rb') as fsrc:\n",
            "FileNotFoundError: [Errno 2] No such file or directory: './TACO/data/batch_14/000024.jpg'\n"
          ],
          "name": "stdout"
        }
      ]
    },
    {
      "cell_type": "markdown",
      "metadata": {
        "id": "tIrwDAqzEBNa"
      },
      "source": [
        "### Training arguments\r\n",
        "\r\n",
        "- `--weights` - initial weights path\r\n",
        "- `--cfg` - model.yaml path\r\n",
        "- `--data` - data.yaml path\r\n",
        "- `--hyp` - hyperparameters path\r\n",
        "- `--epochs` - training epochs (rounds/episodes)\r\n",
        "- `--batch-size` - total batch size for all GPUs\r\n",
        "- `--img-size` - \\[train, test\\] image sizes\r\n",
        "- `--rect` - rectangular training\r\n",
        "- `--resume` - resume most recent training\r\n",
        "- `--nosave` - only save final checkpoint\r\n",
        "- `--notest` - only test final epoch\r\n",
        "- `--noautoanchor` - disable autoanchor check\r\n",
        "- `--evolve` - evolve hyperparameters\r\n",
        "- `--bucket` - gsutil bucket\r\n",
        "- `--cache-images` - cache images for faster training\r\n",
        "- `--image-weights` - use weighted image selection for training\r\n",
        "- `--device` - cuda device, i.e. 0 or 0,1,2,3 or cpu\r\n",
        "- `--multi-scale` - vary img-size +/- 50%%\r\n",
        "- `--single-cls` - train multi-class data as single-class\r\n",
        "- `--adam` - use torch.optim.Adam() optimizer\r\n",
        "- `--sync-bn` - use SyncBatchNorm, only available in DDP mode\r\n",
        "- `--local_rank` - DDP parameter, do not modify\r\n",
        "- `--log-imgs` - number of images for W&B logging, max 100\r\n",
        "- `--log-artifacts` - log artifacts, i.e. final trained model\r\n",
        "- `--workers` - maximum number of dataloader workers\r\n",
        "- `--project` - save to project/name\r\n",
        "- `--name` - save to project/name\r\n",
        "- `--exist-ok` - existing project/name ok, do not increment\r\n",
        "- `--quad` - quad dataloader"
      ]
    }
  ]
}